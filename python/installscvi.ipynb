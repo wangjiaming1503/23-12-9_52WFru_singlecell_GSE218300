{
 "cells": [
  {
   "cell_type": "code",
   "execution_count": 1,
   "id": "dc25db20-e5c3-4e92-bf02-5dd1995befac",
   "metadata": {},
   "outputs": [],
   "source": [
    "from scvi_colab import install"
   ]
  },
  {
   "cell_type": "code",
   "execution_count": null,
   "id": "f43fcfc3-a9d1-48cb-a4b0-17fdec41dc40",
   "metadata": {},
   "outputs": [
    {
     "name": "stdout",
     "output_type": "stream",
     "text": [
      "\u001b[34mINFO    \u001b[0m scvi-colab: Installing scvi-tools.                                                                        \n"
     ]
    }
   ],
   "source": [
    "install(run_outside_colab=True)"
   ]
  },
  {
   "cell_type": "code",
   "execution_count": null,
   "id": "c26c56de-9cbf-4d10-a209-9e392ac79488",
   "metadata": {},
   "outputs": [],
   "source": []
  }
 ],
 "metadata": {
  "kernelspec": {
   "display_name": "Python (scvi-env)",
   "language": "python",
   "name": "scvi-env"
  },
  "language_info": {
   "codemirror_mode": {
    "name": "ipython",
    "version": 3
   },
   "file_extension": ".py",
   "mimetype": "text/x-python",
   "name": "python",
   "nbconvert_exporter": "python",
   "pygments_lexer": "ipython3",
   "version": "3.9.18"
  }
 },
 "nbformat": 4,
 "nbformat_minor": 5
}
